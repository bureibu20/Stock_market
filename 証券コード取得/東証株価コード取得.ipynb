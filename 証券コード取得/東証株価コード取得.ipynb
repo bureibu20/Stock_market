{
 "cells": [
  {
   "cell_type": "code",
   "execution_count": null,
   "metadata": {},
   "outputs": [],
   "source": [
    "import requests\n",
    "import pandas as pd\n",
    "\n",
    "#東京証券取引所から銘柄一覧データを取得する\n",
    "#https://www.jpx.co.jp/markets/statistics-equities/misc/01.html\n",
    "\n",
    "url = \"https://www.jpx.co.jp/markets/statistics-equities/misc/tvdivq0000001vg2-att/data_j.xls\"\n",
    "r = requests.get(url)\n",
    "with open('data_j.xls', 'wb') as output:\n",
    "    output.write(r.content)\n",
    "    \n",
    "stocklist = pd.read_excel(\"./data_j.xls\")\n",
    "\n",
    "#行に記載の市場・商品区分を調べる\n",
    "# stock_class = stocklist[\"市場・商品区分\"]\n",
    "# stock_class.unique()\n",
    "# stock_list\n",
    "\n",
    "df_filtered = stocklist[stocklist[\"市場・商品区分\"].isin(['プライム（内国株式）','グロース（内国株式）','スタンダード（内国株式）'])]\n",
    "# データ保存\n",
    "# df_filtered.to_excel(\"stock_list.xlsx\", index=False)\n",
    "\n",
    "code_list = df_filtered[\"コード\"].tolist() #証券コードをリスト化\n",
    "print(code_list)\n"
   ]
  },
  {
   "cell_type": "code",
   "execution_count": 1,
   "metadata": {},
   "outputs": [],
   "source": [
    "import requests\n",
    "\n",
    "url = \"https://www.jpx.co.jp/markets/statistics-equities/misc/tvdivq0000001vg2-att/data_j.xls\"\n",
    "r = requests.get(url)\n",
    "with open('data_j.xls', 'wb') as output:\n",
    "    output.write(r.content)"
   ]
  },
  {
   "cell_type": "code",
   "execution_count": null,
   "metadata": {},
   "outputs": [],
   "source": [
    "import pandas as pd\n",
    "\n",
    "#東京証券取引所から銘柄一覧データを取得する\n",
    "#https://www.jpx.co.jp/markets/statistics-equities/misc/01.html\n",
    "\n",
    "stocklist = pd.read_excel(\"./data_j.xls\")\n",
    "stocklist"
   ]
  },
  {
   "cell_type": "code",
   "execution_count": null,
   "metadata": {},
   "outputs": [],
   "source": [
    "stock_class = stocklist[\"市場・商品区分\"]\n",
    "stock_class"
   ]
  },
  {
   "cell_type": "code",
   "execution_count": null,
   "metadata": {},
   "outputs": [],
   "source": [
    "stock_class.unique()\n",
    "stock_class"
   ]
  },
  {
   "cell_type": "code",
   "execution_count": 7,
   "metadata": {},
   "outputs": [],
   "source": [
    "# B列の値がA, B, Cのいずれかを含む行を抽出\n",
    "df_filtered = stocklist[stocklist[\"市場・商品区分\"].isin(['プライム（内国株式）','グロース（内国株式）','スタンダード（内国株式）'])]\n",
    "df_filtered"
   ]
  },
  {
   "cell_type": "code",
   "execution_count": 9,
   "metadata": {},
   "outputs": [],
   "source": [
    "df_filtered.to_excel(\"stock_list.xlsx\", index=False)"
   ]
  },
  {
   "cell_type": "code",
   "execution_count": null,
   "metadata": {},
   "outputs": [],
   "source": [
    "code_list = df_filtered[\"コード\"].tolist()\n",
    "print(code_list)\n"
   ]
  },
  {
   "cell_type": "code",
   "execution_count": null,
   "metadata": {},
   "outputs": [],
   "source": []
  }
 ],
 "metadata": {
  "kernelspec": {
   "display_name": "Python 3",
   "language": "python",
   "name": "python3"
  },
  "language_info": {
   "codemirror_mode": {
    "name": "ipython",
    "version": 3
   },
   "file_extension": ".py",
   "mimetype": "text/x-python",
   "name": "python",
   "nbconvert_exporter": "python",
   "pygments_lexer": "ipython3",
   "version": "3.12.6"
  }
 },
 "nbformat": 4,
 "nbformat_minor": 4
}
