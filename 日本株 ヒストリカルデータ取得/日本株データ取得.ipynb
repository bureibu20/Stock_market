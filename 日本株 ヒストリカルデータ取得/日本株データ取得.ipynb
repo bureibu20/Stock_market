{
 "cells": [
  {
   "cell_type": "code",
   "execution_count": 6,
   "metadata": {},
   "outputs": [],
   "source": [
    "import pandas as pd\n",
    "import yfinance as yf\n",
    "import datetime\n",
    "from pandas_datareader import data as pdr\n",
    "\n",
    "def japan_stock_data(codelist, start, end):\n",
    "\n",
    "    error_code = []\n",
    "    stock_data = []\n",
    "\n",
    "    for code in codelist:\n",
    "        ticker = f\"{code}.T\"\n",
    "        data = yf.download(ticker, start=start, end=end)\n",
    "        \n",
    "        if len(data) == 0:\n",
    "            error_code.append(code)\n",
    "            continue\n",
    "        else:\n",
    "            stock_data.append(code)\n",
    "        data.to_csv(\"{}_data.csv\".format(code))\n",
    "        \n",
    "    print(error_code, \"のデータが取得できませんでした\")\n",
    "    print(stock_data, \"を保存しました\")\n",
    "    "
   ]
  },
  {
   "cell_type": "code",
   "execution_count": null,
   "metadata": {},
   "outputs": [],
   "source": [
    "#以下使用例\n",
    "codelist = [\"2121\", \"9984\" ,\"7777\", \"6758\", \"1570\",\"99999\"]\n",
    "japan_stock_data(codelist, '2016-1-1', '2021-12-31')"
   ]
  },
  {
   "cell_type": "code",
   "execution_count": null,
   "metadata": {},
   "outputs": [],
   "source": []
  }
 ],
 "metadata": {
  "kernelspec": {
   "display_name": "Python 3",
   "language": "python",
   "name": "python3"
  },
  "language_info": {
   "codemirror_mode": {
    "name": "ipython",
    "version": 3
   },
   "file_extension": ".py",
   "mimetype": "text/x-python",
   "name": "python",
   "nbconvert_exporter": "python",
   "pygments_lexer": "ipython3",
   "version": "3.12.6"
  }
 },
 "nbformat": 4,
 "nbformat_minor": 4
}
